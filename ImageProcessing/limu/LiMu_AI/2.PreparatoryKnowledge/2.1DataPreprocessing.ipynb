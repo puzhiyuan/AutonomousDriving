{
 "cells": [
  {
   "cell_type": "markdown",
   "metadata": {},
   "source": [
    "# 数据预处理"
   ]
  },
  {
   "cell_type": "code",
   "execution_count": null,
   "metadata": {
    "ExecuteTime": {
     "end_time": "2023-08-06T16:26:20.703368700Z",
     "start_time": "2023-08-06T16:26:20.696719200Z"
    }
   },
   "outputs": [],
   "source": [
    "import os\n",
    "# 创建data目录\n",
    "os.makedirs(os.path.join(\"..\", 'data'), exist_ok=True) \n",
    "# 生成csv文件\n",
    "data_file = os.path.join(\"..\", 'data', 'house_tiny.csv')\n",
    "# 打开csv文件写入数据\n",
    "with open(data_file, 'w') as fp:\n",
    "    fp.write('NumRooms,Alley,price\\n') # 写入表头\n",
    "    fp.write('NA,Pave,127500\\n') # 写入第一行数据\n",
    "    fp.write('2,NA,106000\\n') \n",
    "    fp.write('4,NA,178100\\n')\n",
    "    fp.write('NA,NA,140000\\n') # 写入最后一行数据"
   ]
  },
  {
   "cell_type": "markdown",
   "metadata": {},
   "source": [
    "***exist_ok=True***表示:\n",
    "- 如果指定路径的目录已经存在,不抛出错误。\n",
    "- 如果目录不存在,将正常创建该目录。"
   ]
  },
  {
   "cell_type": "code",
   "execution_count": null,
   "metadata": {
    "ExecuteTime": {
     "end_time": "2023-08-06T16:26:21.249991100Z",
     "start_time": "2023-08-06T16:26:20.705417800Z"
    }
   },
   "outputs": [],
   "source": [
    "import pandas as pd\n",
    "# 读取csv文件\n",
    "data = pd.read_csv(data_file)\n",
    "data"
   ]
  },
  {
   "cell_type": "code",
   "execution_count": null,
   "metadata": {
    "ExecuteTime": {
     "end_time": "2023-08-06T16:26:21.268696500Z",
     "start_time": "2023-08-06T16:26:21.262449400Z"
    }
   },
   "outputs": [],
   "source": [
    "# 处理缺失值\n",
    "# 取出前两列作为输入特征 | 取出第三列作为标签\n",
    "inputs, outputs = data.iloc[:, 0:2], data.iloc[:, 2]\n",
    "# 使用fillna以均值填充输入特征中的缺失值 | numeric_only=True表示只对数值列计算均值，不影响非数值的列,比如字符串列\n",
    "inputs = inputs.fillna(inputs.mean(numeric_only = True))\n",
    "print(inputs)"
   ]
  },
  {
   "cell_type": "code",
   "execution_count": null,
   "metadata": {
    "ExecuteTime": {
     "end_time": "2023-08-06T16:26:21.276885100Z",
     "start_time": "2023-08-06T16:26:21.270821100Z"
    }
   },
   "outputs": [],
   "source": [
    "# 使用get_dummies进行一热编码 | dummy_na=True表示将NaN作为一个类别处理，为缺失值额外创建一列指示特征\n",
    "inputs = pd.get_dummies(inputs, dummy_na=True)\n",
    "print(inputs)"
   ]
  },
  {
   "cell_type": "markdown",
   "metadata": {},
   "source": [
    "***get_dummies***的主要逻辑:\n",
    "\n",
    "对每个分类特征,创建对应的onehot编码\n",
    "- 比如性别列[男,女,未知]会创建三列[男,女,未知]\n",
    "- 每个样本在对应分类上的一列为1,其余为0\n",
    "\n",
    "***dummy_na=True***意味着:\n",
    "- 将NaN作为一种分类处理\n",
    "- 对NaN额外创建一列,标记该样本在该特征为NaN\n",
    "这样可以保留原始的缺失值信息。"
   ]
  },
  {
   "cell_type": "code",
   "execution_count": null,
   "metadata": {
    "ExecuteTime": {
     "end_time": "2023-08-06T16:26:21.327744Z",
     "start_time": "2023-08-06T16:26:21.277889300Z"
    }
   },
   "outputs": [],
   "source": [
    "import torch\n",
    "# 转换为张量格式\n",
    "X, y = torch.tensor(inputs.values), torch.tensor(outputs.values)\n",
    "X, y"
   ]
  },
  {
   "cell_type": "code",
   "execution_count": null,
   "metadata": {
    "ExecuteTime": {
     "end_time": "2023-08-06T16:41:13.501470700Z",
     "start_time": "2023-08-06T16:41:13.496143500Z"
    }
   },
   "outputs": [],
   "source": [
    "# reshape会在源上操作,两者共享数据内存\n",
    "a = torch.arange(12)\n",
    "b = a.reshape((3,4))\n",
    "b[:] = 2\n",
    "print(b.ndim)  # 打印张量维度,输出2\n",
    "print(b.shape)  # 打印张量形状,输出torch.Size([3, 4])"
   ]
  },
  {
   "cell_type": "code",
   "execution_count": null,
   "metadata": {
    "ExecuteTime": {
     "end_time": "2023-08-06T17:11:50.018435200Z",
     "start_time": "2023-08-06T17:11:50.012267Z"
    },
    "collapsed": false
   },
   "outputs": [],
   "source": [
    "a = torch.arange(20, dtype=torch.float32).reshape((5,4))\n",
    "# 使用clone()复制Tensor,两者不共享内存\n",
    "b = a.clone()\n",
    "print(id(a))\n",
    "print(id(b))"
   ]
  },
  {
   "cell_type": "code",
   "execution_count": null,
   "metadata": {
    "ExecuteTime": {
     "end_time": "2023-08-06T17:25:05.587177700Z",
     "start_time": "2023-08-06T17:25:05.580805500Z"
    },
    "collapsed": false
   },
   "outputs": [],
   "source": [
    "# 创建形状为(2,5,4)的张量,元素初始化为1\n",
    "a = torch.ones((2,5,4))\n",
    "print(a.shape)\n",
    "print(a)\n"
   ]
  },
  {
   "cell_type": "code",
   "execution_count": null,
   "metadata": {
    "ExecuteTime": {
     "end_time": "2023-08-06T17:27:32.111680500Z",
     "start_time": "2023-08-06T17:27:32.068390500Z"
    },
    "collapsed": false
   },
   "outputs": [],
   "source": [
    "# 求全部元素的和,返回一个scalar\n",
    "print(a.sum().shape)\n",
    "# axis=1表示在第1维(行)上求和 | keepdims=True表示保留维度,输出仍为3D\n",
    "b = a.sum(axis=1, keepdims=True)\n",
    "print(b.shape)\n",
    "print(b)"
   ]
  }
 ],
 "metadata": {
  "kernelspec": {
   "display_name": "Python 3 (ipykernel)",
   "language": "python",
   "name": "python3"
  },
  "language_info": {
   "codemirror_mode": {
    "name": "ipython",
    "version": 3
   },
   "file_extension": ".py",
   "mimetype": "text/x-python",
   "name": "python",
   "nbconvert_exporter": "python",
   "pygments_lexer": "ipython3",
   "version": "3.11.4"
  }
 },
 "nbformat": 4,
 "nbformat_minor": 2
}
