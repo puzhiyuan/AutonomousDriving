{
 "cells": [
  {
   "cell_type": "markdown",
   "metadata": {},
   "source": [
    "# 循环神经网络"
   ]
  },
  {
   "cell_type": "markdown",
   "metadata": {},
   "source": [
    "## 有隐状态的循环神经网络\n",
    "<img src=\"./image/8.4_1RecurrentNeuralNetworksWithHiddenStates.png\" width=400>\n",
    "\n",
    "具有隐状态的循环神经网络"
   ]
  },
  {
   "cell_type": "code",
   "execution_count": 4,
   "metadata": {},
   "outputs": [
    {
     "name": "stdout",
     "output_type": "stream",
     "text": [
      "tensor([[ 0.7483],\n",
      "        [ 0.3282],\n",
      "        [-0.8038]]) tensor([[ 1.2905, -0.2572, -0.1331, -0.5072]])\n"
     ]
    },
    {
     "data": {
      "text/plain": [
       "tensor([[-2.0807, -6.7683, -2.3877,  0.7904],\n",
       "        [ 2.9395, -1.4448,  3.9111,  1.2907],\n",
       "        [-3.9346, -0.9520, -1.8541,  0.0718]])"
      ]
     },
     "execution_count": 4,
     "metadata": {},
     "output_type": "execute_result"
    }
   ],
   "source": [
    "import torch\n",
    "from d2l import torch as d2l\n",
    "\n",
    "X, W_xh = torch.normal(0, 1, (3, 1)), torch.normal(0, 1, (1, 4))\n",
    "H, W_hh = torch.normal(0, 1, (3, 4)), torch.normal(0, 1, (4, 4))\n",
    "print(X,W_xh)\n",
    "torch.matmul(X, W_xh) + torch.matmul(H, W_hh)"
   ]
  },
  {
   "cell_type": "code",
   "execution_count": 2,
   "metadata": {},
   "outputs": [
    {
     "data": {
      "text/plain": [
       "tensor([[-1.4240, -1.7710, -3.2678,  0.7838],\n",
       "        [ 1.7570,  3.6908, -1.8655, -2.5950],\n",
       "        [ 0.2629,  0.4448, -0.1413, -0.0454]])"
      ]
     },
     "execution_count": 2,
     "metadata": {},
     "output_type": "execute_result"
    }
   ],
   "source": [
    "torch.matmul(torch.cat((X, H), 1), torch.cat((W_xh, W_hh), 0))"
   ]
  },
  {
   "cell_type": "markdown",
   "metadata": {},
   "source": [
    "## 基于循环神经网络的字符级语言模型\n",
    "<img src=\"./image/8.4_2Character-levelLanguageModelBasedOnRecurrentNeuralNetworks.png\" width=400>\n",
    "\n",
    "<text>输入序列和标签序列分别为“machin”和“achine”</text>"
   ]
  },
  {
   "cell_type": "markdown",
   "metadata": {},
   "source": [
    "## 困惑度（Perplexity）"
   ]
  },
  {
   "cell_type": "code",
   "execution_count": null,
   "metadata": {},
   "outputs": [],
   "source": []
  }
 ],
 "metadata": {
  "kernelspec": {
   "display_name": "limu_ai",
   "language": "python",
   "name": "python3"
  },
  "language_info": {
   "codemirror_mode": {
    "name": "ipython",
    "version": 3
   },
   "file_extension": ".py",
   "mimetype": "text/x-python",
   "name": "python",
   "nbconvert_exporter": "python",
   "pygments_lexer": "ipython3",
   "version": "3.11.4"
  }
 },
 "nbformat": 4,
 "nbformat_minor": 2
}
